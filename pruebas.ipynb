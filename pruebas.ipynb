{
 "cells": [
  {
   "cell_type": "code",
   "execution_count": 1,
   "id": "dc9988e5",
   "metadata": {},
   "outputs": [
    {
     "name": "stdout",
     "output_type": "stream",
     "text": [
      "Conteo de cada label:\n",
      "label\n",
      "Modelo LLAW - Boost 2           24\n",
      "ChatGpt                         19\n",
      "Humanos                         19\n",
      "Modelo Red Green - Boost 2.0    13\n",
      "Caso Base Mistral                8\n",
      "Modelo LLAW - Boost 3            4\n",
      "Modelo LLAW - Boost 4            4\n",
      "Modelo Red Green - Boost 1       4\n",
      "Modelo Red Green - Boost 1.5     4\n",
      "Name: count, dtype: int64\n",
      "\n",
      "Total de labels distintos: 9\n"
     ]
    }
   ],
   "source": [
    "import pandas as pd\n",
    "\n",
    "# Lee el archivo de texto, asumiendo que el archivo se llama \"datos.txt\"\n",
    "# Si tu archivo se llama de otro modo, reemplaza \"datos.txt\" por el nombre correcto.\n",
    "df = pd.read_csv(\"Textos.csv\", sep=\"|\", encoding=\"utf-8\")\n",
    "\n",
    "# Elimina espacios en blanco al principio y al final de los nombres de las columnas (si existieran)\n",
    "df.columns = df.columns.str.strip()\n",
    "\n",
    "# Asegúrate de eliminar espacios en blanco en los valores de la columna 'label'\n",
    "df['label'] = df['label'].str.strip()\n",
    "\n",
    "# Cuenta la frecuencia de cada label\n",
    "conteo_labels = df['label'].value_counts()\n",
    "\n",
    "# Cuenta cuántos labels distintos hay\n",
    "total_labels_distintos = df['label'].nunique()\n",
    "\n",
    "print(\"Conteo de cada label:\")\n",
    "print(conteo_labels)\n",
    "print(\"\\nTotal de labels distintos:\", total_labels_distintos)"
   ]
  },
  {
   "cell_type": "code",
   "execution_count": 2,
   "id": "9e6d50b9",
   "metadata": {},
   "outputs": [
    {
     "name": "stdout",
     "output_type": "stream",
     "text": [
      "Conteo por tipo (Humano vs IA):\n",
      "tipo\n",
      "ia        80\n",
      "humano    19\n",
      "Name: count, dtype: int64\n",
      "\n",
      "Conteo dentro de IA (con watermark vs sin watermark):\n",
      "detalle\n",
      "ia con watermark    53\n",
      "ia sin watermark    27\n",
      "Name: count, dtype: int64\n"
     ]
    }
   ],
   "source": [
    "# 2. Clasificación básica: humano vs. ia\n",
    "def classify_tipo(label):\n",
    "    if label.lower() == \"humanos\":\n",
    "        return \"humano\"\n",
    "    else:\n",
    "        return \"ia\"\n",
    "\n",
    "df['tipo'] = df['label'].apply(classify_tipo)\n",
    "\n",
    "# Contar cuántos registros son humanos vs. IA\n",
    "conteo_tipos = df['tipo'].value_counts()\n",
    "print(\"Conteo por tipo (Humano vs IA):\")\n",
    "print(conteo_tipos)\n",
    "\n",
    "# 3. Dentro de la categoría IA, distinguir entre con watermark y sin watermark.\n",
    "def classify_ai_detail(label):\n",
    "    # Si el valor contiene la palabra \"boost\" (ignorando mayúsculas/minúsculas),\n",
    "    # lo consideramos IA con watermark, de lo contrario IA sin watermark.\n",
    "    if \"boost\" in label.lower():\n",
    "        return \"ia con watermark\"\n",
    "    else:\n",
    "        return \"ia sin watermark\"\n",
    "\n",
    "# Filtrar registros donde el tipo es \"ia\"\n",
    "df_ai = df[df['tipo'] == \"ia\"].copy()\n",
    "df_ai['detalle'] = df_ai['label'].apply(classify_ai_detail)\n",
    "\n",
    "# Contar cuántos son \"ia con watermark\" y \"ia sin watermark\"\n",
    "conteo_detalle = df_ai['detalle'].value_counts()\n",
    "print(\"\\nConteo dentro de IA (con watermark vs sin watermark):\")\n",
    "print(conteo_detalle)"
   ]
  }
 ],
 "metadata": {
  "kernelspec": {
   "display_name": "ADNE",
   "language": "python",
   "name": "python3"
  },
  "language_info": {
   "codemirror_mode": {
    "name": "ipython",
    "version": 3
   },
   "file_extension": ".py",
   "mimetype": "text/x-python",
   "name": "python",
   "nbconvert_exporter": "python",
   "pygments_lexer": "ipython3",
   "version": "3.8.20"
  }
 },
 "nbformat": 4,
 "nbformat_minor": 5
}
